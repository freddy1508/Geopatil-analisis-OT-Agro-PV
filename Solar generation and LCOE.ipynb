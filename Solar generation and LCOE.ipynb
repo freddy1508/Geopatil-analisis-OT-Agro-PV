{
 "cells": [
  {
   "cell_type": "code",
   "execution_count": 4,
   "metadata": {},
   "outputs": [
    {
     "ename": "ModuleNotFoundError",
     "evalue": "No module named 'pvlib'",
     "output_type": "error",
     "traceback": [
      "\u001b[1;31m---------------------------------------------------------------------------\u001b[0m",
      "\u001b[1;31mModuleNotFoundError\u001b[0m                       Traceback (most recent call last)",
      "Cell \u001b[1;32mIn[4], line 1\u001b[0m\n\u001b[1;32m----> 1\u001b[0m \u001b[39mimport\u001b[39;00m \u001b[39mpvlib\u001b[39;00m\n\u001b[0;32m      2\u001b[0m \u001b[39mimport\u001b[39;00m \u001b[39mpandas\u001b[39;00m \u001b[39mas\u001b[39;00m \u001b[39mpd\u001b[39;00m\n\u001b[0;32m      4\u001b[0m \u001b[39m# set location parameters\u001b[39;00m\n",
      "\u001b[1;31mModuleNotFoundError\u001b[0m: No module named 'pvlib'"
     ]
    }
   ],
   "source": [
    "import pvlib\n",
    "import pandas as pd\n",
    "\n",
    "# set location parameters\n",
    "lat = 33.084\n",
    "lon = -96.699\n",
    "elevation = 200 # in meters\n",
    "\n",
    "# load TMY data\n",
    "tmy_data, _ = pvlib.iotools.read_tmy3('USA_TX_McKinney-Muni.AP.722630_TMY3.epw')\n",
    "\n",
    "# create location object\n",
    "location = pvlib.location.Location(lat=lat, lon=lon, altitude=elevation, tz='Etc/GMT+6')\n",
    "\n",
    "# calculate solar position\n",
    "solar_position = location.get_solarposition(tmy_data.index)\n",
    "\n",
    "# calculate clear sky GHI and DNI\n",
    "clear_sky = location.get_clearsky(tmy_data.index)\n",
    "dni_extra = pvlib.irradiance.get_extra_radiation(tmy_data.index)\n",
    "clear_sky['dni'] = pvlib.irradiance.dirindex(clear_sky['ghi'], solar_position['apparent_zenith'], tmy_data.index, method='simple') * dni_extra\n",
    "clear_sky['dhi'] = clear_sky['ghi'] - clear_sky['dni'] * solar_position['apparent_zenith'].apply(lambda x: max(x, 0)).apply(lambda x: min(x, pvlib.irradiance.atmosphere.get_relative_airmass(x)))\n",
    "\n",
    "# calculate surface tilt and azimuth\n",
    "surface_azimuth = 180  # facing south\n",
    "surface_tilt = pvlib.irradiance.getSlope(solar_position['apparent_zenith'], solar_position['azimuth'], surface_azimuth)\n",
    "\n",
    "# calculate irradiance components on the tracking surface\n",
    "irradiance = pvlib.irradiance.get_total_irradiance(surface_tilt, surface_azimuth, solar_position['apparent_zenith'], solar_position['azimuth'], clear_sky['dni'], clear_sky['ghi'], clear_sky['dhi'], dni_extra=dni_extra, model='haydavies')\n",
    "\n",
    "# calculate AC power output\n",
    "sandia_modules = pvlib.pvsystem.retrieve_sam('SandiaMod')\n",
    "module = sandia_modules['SunPower_SPR_345_WHT']\n",
    "inverter = pvlib.pvsystem.retrieve_sam('CECInverter', 'SMA_America__SB7200TL_US_72__208V_')\n",
    "system = pvlib.pvsystem.PVSystem(surface_tilt=surface_tilt, surface_azimuth=surface_azimuth, module_parameters=module, inverter_parameters=inverter)\n",
    "ac_power = system.ac_power(irradiance['dni'], irradiance['ghi'], irradiance['dhi'], location=location)\n",
    "\n",
    "# calculate LCOE\n",
    "discount_rate = 0.07 # in decimal\n",
    "plant_cost = 2000 # in $/kW DC\n",
    "federal_tax_rate = 0.3 # in decimal\n",
    "state_tax_rate = 0.05 # in decimal\n",
    "operation_maintenance_cost = 25 # in $/kW DC/year\n",
    "lifetime = 25 # in years\n",
    "energy = ac_power.sum() / 1000 # in MWh\n",
    "capacity_factor = energy / (8760 * system.module_parameters['Impo'] * system.module_parameters['Vmpo'] * system.module_parameters['Area'])  # assuming system granularity of 1 module\n",
    "capacity = 1 / capacity_factor\n",
    "capital_recovery_factor = discount_rate * (1 + discount_rate) ** lifetime / ((1 + discount_rate) ** lifetime - 1)\n",
    "total_annual_cost = ((plant_cost + operation_maintenance_cost) / capacity * capital_recovery_factor + operation_maintenance_cost) * (1 - federal_tax_rate - state_tax_rate)\n",
    "lcoe = total_annual_cost / energy\n",
    "\n",
    "print('LCOE = {:.2f} $/MWh'.format(lcoe))\n"
   ]
  }
 ],
 "metadata": {
  "kernelspec": {
   "display_name": "Python 3",
   "language": "python",
   "name": "python3"
  },
  "language_info": {
   "codemirror_mode": {
    "name": "ipython",
    "version": 3
   },
   "file_extension": ".py",
   "mimetype": "text/x-python",
   "name": "python",
   "nbconvert_exporter": "python",
   "pygments_lexer": "ipython3",
   "version": "3.10.10"
  },
  "orig_nbformat": 4
 },
 "nbformat": 4,
 "nbformat_minor": 2
}
