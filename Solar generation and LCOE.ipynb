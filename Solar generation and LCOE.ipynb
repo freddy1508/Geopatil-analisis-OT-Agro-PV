{
 "cells": [
  {
   "cell_type": "code",
   "execution_count": 11,
   "metadata": {},
   "outputs": [
    {
     "name": "stdout",
     "output_type": "stream",
     "text": [
      "Location: \n",
      "  name: Valpo_testplot-fruticulture\n",
      "  latitude: -32.76359193999683\n",
      "  longitude: -70.66545073954828\n",
      "  altitude: 100\n",
      "  tz: Chile/Continental\n"
     ]
    }
   ],
   "source": [
    "import pandas as pd\n",
    "import matplotlib.pyplot as plt \n",
    "import pvlib \n",
    "from pvlib.modelchain import ModelChain\n",
    "from pvlib.location import Location\n",
    "from pvlib.pvsystem import pvsystem \n",
    "\n",
    "\n",
    "\n",
    "# Location = Fruticulture plot in Valpo \n",
    "\n",
    "location = Location (latitude = -32.76359193999683, longitude = -70.66545073954828, tz = 'Chile/Continental', altitude=100, name = 'Valpo_testplot-fruticulture')\n",
    "print (location)\n",
    "\n",
    "system = \n",
    "# modelchain = ModelChain (system, location)\n",
    "\n",
    "\n",
    "\n",
    "\n"
   ]
  }
 ],
 "metadata": {
  "kernelspec": {
   "display_name": "Python 3",
   "language": "python",
   "name": "python3"
  },
  "language_info": {
   "codemirror_mode": {
    "name": "ipython",
    "version": 3
   },
   "file_extension": ".py",
   "mimetype": "text/x-python",
   "name": "python",
   "nbconvert_exporter": "python",
   "pygments_lexer": "ipython3",
   "version": "3.11.0"
  },
  "orig_nbformat": 4
 },
 "nbformat": 4,
 "nbformat_minor": 2
}
