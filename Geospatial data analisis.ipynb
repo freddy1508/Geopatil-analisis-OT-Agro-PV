{
 "cells": [
  {
   "cell_type": "code",
   "execution_count": null,
   "metadata": {},
   "outputs": [],
   "source": [
    "import pandas as pd\n",
    "import geopandas as gpd \n",
    "import matplotlib.pyplot as plt\n",
    "\n",
    "# Import GeoJSON file of apple agri plots in Casablanca \n",
    "apple_casablanca = gpd.read_file(r'C:\\Users\\frederik.schonberger\\fraunhofer.cl\\CSET-PV Integrated Photovoltaics - APV\\06 Publicactions\\2023 Ordenamiento terretorial Agro PV\\Data\\QGIS\\99 Output for Python\\Apple Areas Casablanca 2020_GEOJSON.geojson')\n",
    "\n",
    "# Set figure size and projection\n",
    "fig, ax = plt.subplots(figsize=(10, 15))\n",
    "ax.set_aspect('auto')\n",
    "ax.set(xlabel='Longitude', ylabel='Latitude')\n",
    "\n",
    "# Plot the GeoDataFrame\n",
    "apple_casablanca.plot(ax=ax)\n",
    "\n",
    "# Set the map title\n",
    "plt.title('Apple cultivation in Commune Casablanca, Valparaíso')\n",
    "\n",
    "# Show the plot\n",
    "plt.show()\n",
    "\n",
    "apple_casablanca.head()\n",
    "\n"
   ]
  },
  {
   "attachments": {},
   "cell_type": "markdown",
   "metadata": {},
   "source": [
    "Add centroids to areas "
   ]
  },
  {
   "cell_type": "code",
   "execution_count": null,
   "metadata": {},
   "outputs": [],
   "source": [
    "# create a new column for the centroid of each polygon\n",
    "apple_casablanca['centroid'] = apple_casablanca.centroid\n",
    "\n",
    "# preview the updated GeoDataFrame\n",
    "apple_casablanca.head()\n"
   ]
  },
  {
   "cell_type": "code",
   "execution_count": null,
   "metadata": {},
   "outputs": [],
   "source": [
    "# create a new column for the centroid of each polygon\n",
    "apple_casablanca['centroid'] = apple_casablanca.centroid\n",
    "\n",
    "# preview the updated GeoDataFrame\n",
    "apple_casablanca.head()\n",
    "\n",
    "print(apple_casablanca.crs)\n",
    "\n"
   ]
  },
  {
   "attachments": {},
   "cell_type": "markdown",
   "metadata": {},
   "source": [
    "PV Lib modelchain to assess energy yield potential "
   ]
  },
  {
   "cell_type": "code",
   "execution_count": 38,
   "metadata": {},
   "outputs": [
    {
     "name": "stderr",
     "output_type": "stream",
     "text": [
      "C:\\Users\\frederik.schonberger\\AppData\\Local\\Temp\\ipykernel_19128\\3218290375.py:5: UserWarning: Geometry is in a geographic CRS. Results from 'centroid' are likely incorrect. Use 'GeoSeries.to_crs()' to re-project geometries to a projected CRS before this operation.\n",
      "\n",
      "  lat = apple_casablanca.centroid.x[0]\n",
      "C:\\Users\\frederik.schonberger\\AppData\\Local\\Temp\\ipykernel_19128\\3218290375.py:6: UserWarning: Geometry is in a geographic CRS. Results from 'centroid' are likely incorrect. Use 'GeoSeries.to_crs()' to re-project geometries to a projected CRS before this operation.\n",
      "\n",
      "  lng = apple_casablanca.centroid.y[0]\n"
     ]
    },
    {
     "ename": "HTTPError",
     "evalue": "Location out of the spatial coverage of PVGIS5",
     "output_type": "error",
     "traceback": [
      "\u001b[1;31m---------------------------------------------------------------------------\u001b[0m",
      "\u001b[1;31mHTTPError\u001b[0m                                 Traceback (most recent call last)",
      "Cell \u001b[1;32mIn[38], line 13\u001b[0m\n\u001b[0;32m     10\u001b[0m solar_position \u001b[39m=\u001b[39m pv\u001b[39m.\u001b[39msolarposition\u001b[39m.\u001b[39mget_solarposition(apple_casablanca\u001b[39m.\u001b[39mindex, lng, lat )\n\u001b[0;32m     12\u001b[0m \u001b[39m# define weather data\u001b[39;00m\n\u001b[1;32m---> 13\u001b[0m weather_data \u001b[39m=\u001b[39m pv\u001b[39m.\u001b[39;49miotools\u001b[39m.\u001b[39;49mget_pvgis_tmy(lng, \n\u001b[0;32m     14\u001b[0m                                          lat)\n\u001b[0;32m     16\u001b[0m \u001b[39m# define PV system parameters\u001b[39;00m\n\u001b[0;32m     17\u001b[0m system \u001b[39m=\u001b[39m pv\u001b[39m.\u001b[39msystem\u001b[39m.\u001b[39mPVSystem(surface_tilt\u001b[39m=\u001b[39m\u001b[39m30\u001b[39m, surface_azimuth\u001b[39m=\u001b[39m\u001b[39m0\u001b[39m)\n",
      "File \u001b[1;32mc:\\Users\\frederik.schonberger\\AppData\\Local\\Programs\\Python\\Python311\\Lib\\site-packages\\pvlib\\iotools\\pvgis.py:472\u001b[0m, in \u001b[0;36mget_pvgis_tmy\u001b[1;34m(latitude, longitude, outputformat, usehorizon, userhorizon, startyear, endyear, url, map_variables, timeout)\u001b[0m\n\u001b[0;32m    470\u001b[0m         res\u001b[39m.\u001b[39mraise_for_status()\n\u001b[0;32m    471\u001b[0m     \u001b[39melse\u001b[39;00m:\n\u001b[1;32m--> 472\u001b[0m         \u001b[39mraise\u001b[39;00m requests\u001b[39m.\u001b[39mHTTPError(err_msg[\u001b[39m'\u001b[39m\u001b[39mmessage\u001b[39m\u001b[39m'\u001b[39m])\n\u001b[0;32m    473\u001b[0m \u001b[39m# initialize data to None in case API fails to respond to bad outputformat\u001b[39;00m\n\u001b[0;32m    474\u001b[0m data \u001b[39m=\u001b[39m \u001b[39mNone\u001b[39;00m, \u001b[39mNone\u001b[39;00m, \u001b[39mNone\u001b[39;00m, \u001b[39mNone\u001b[39;00m\n",
      "\u001b[1;31mHTTPError\u001b[0m: Location out of the spatial coverage of PVGIS5"
     ]
    }
   ],
   "source": [
    "import pandas as pd\n",
    "import geopandas as gpd\n",
    "import pvlib as pv\n",
    "\n",
    "lat = apple_casablanca.centroid.x[0]\n",
    "lng = apple_casablanca.centroid.y[0]\n",
    "\n",
    "\n",
    "# get solar position\n",
    "solar_position = pv.solarposition.get_solarposition(apple_casablanca.index, lng, lat )\n",
    "\n",
    "# define weather data\n",
    "weather_data = pv.iotools.get_pvgis_tmy(lng, \n",
    "                                         lat)\n",
    "\n",
    "# define PV system parameters\n",
    "system = pv.system.PVSystem(surface_tilt=30, surface_azimuth=0)\n",
    "\n",
    "# iterate over each row in geodataframe\n",
    "for index, row in apple_casablanca.iterrows():\n",
    "    # calculate irradiance\n",
    "    dni, ghi, DHI, extra = pv.irradiance.get_total_irradiance(surface_tilt=30, \n",
    "                                                              surface_azimuth=180, \n",
    "                                                              solar_zenith=solar_position['apparent_zenith'].loc[index], \n",
    "                                                              solar_azimuth=solar_position['azimuth'].loc[index], \n",
    "                                                              dni=weather_data['DNI'], \n",
    "                                                              ghi=weather_data['GHI'], \n",
    "                                                              dhi=weather_data['DHI'], \n",
    "                                                              solar_zenith_type='apparent')\n",
    "    # calculate PV system power output\n",
    "    power_output = system.sapm(dni=dni, ghi=ghi, temp_air=weather_data['Temp'], wind_speed=weather_data['Wind'])\n",
    "    \n",
    "    # store electricity yield in new column\n",
    "    apple_casablanca.loc[index, 'electricity_yield'] = power_output.sum()\n"
   ]
  },
  {
   "cell_type": "code",
   "execution_count": 40,
   "metadata": {},
   "outputs": [
    {
     "name": "stderr",
     "output_type": "stream",
     "text": [
      "C:\\Users\\frederik.schonberger\\AppData\\Local\\Temp\\ipykernel_19128\\3218290375.py:5: UserWarning: Geometry is in a geographic CRS. Results from 'centroid' are likely incorrect. Use 'GeoSeries.to_crs()' to re-project geometries to a projected CRS before this operation.\n",
      "\n",
      "  lat = apple_casablanca.centroid.x[0]\n",
      "C:\\Users\\frederik.schonberger\\AppData\\Local\\Temp\\ipykernel_19128\\3218290375.py:6: UserWarning: Geometry is in a geographic CRS. Results from 'centroid' are likely incorrect. Use 'GeoSeries.to_crs()' to re-project geometries to a projected CRS before this operation.\n",
      "\n",
      "  lng = apple_casablanca.centroid.y[0]\n"
     ]
    },
    {
     "ename": "HTTPError",
     "evalue": "Location out of the spatial coverage of PVGIS5",
     "output_type": "error",
     "traceback": [
      "\u001b[1;31m---------------------------------------------------------------------------\u001b[0m",
      "\u001b[1;31mHTTPError\u001b[0m                                 Traceback (most recent call last)",
      "Cell \u001b[1;32mIn[40], line 13\u001b[0m\n\u001b[0;32m     10\u001b[0m solar_position \u001b[39m=\u001b[39m pv\u001b[39m.\u001b[39msolarposition\u001b[39m.\u001b[39mget_solarposition(apple_casablanca\u001b[39m.\u001b[39mindex, lng, lat )\n\u001b[0;32m     12\u001b[0m \u001b[39m# define weather data\u001b[39;00m\n\u001b[1;32m---> 13\u001b[0m weather_data \u001b[39m=\u001b[39m pv\u001b[39m.\u001b[39;49miotools\u001b[39m.\u001b[39;49mget_pvgis_tmy(lng, \n\u001b[0;32m     14\u001b[0m                                          lat)\n\u001b[0;32m     16\u001b[0m \u001b[39m# define PV system parameters\u001b[39;00m\n\u001b[0;32m     17\u001b[0m system \u001b[39m=\u001b[39m pv\u001b[39m.\u001b[39msystem\u001b[39m.\u001b[39mPVSystem(surface_tilt\u001b[39m=\u001b[39m\u001b[39m30\u001b[39m, surface_azimuth\u001b[39m=\u001b[39m\u001b[39m0\u001b[39m)\n",
      "File \u001b[1;32mc:\\Users\\frederik.schonberger\\AppData\\Local\\Programs\\Python\\Python311\\Lib\\site-packages\\pvlib\\iotools\\pvgis.py:472\u001b[0m, in \u001b[0;36mget_pvgis_tmy\u001b[1;34m(latitude, longitude, outputformat, usehorizon, userhorizon, startyear, endyear, url, map_variables, timeout)\u001b[0m\n\u001b[0;32m    470\u001b[0m         res\u001b[39m.\u001b[39mraise_for_status()\n\u001b[0;32m    471\u001b[0m     \u001b[39melse\u001b[39;00m:\n\u001b[1;32m--> 472\u001b[0m         \u001b[39mraise\u001b[39;00m requests\u001b[39m.\u001b[39mHTTPError(err_msg[\u001b[39m'\u001b[39m\u001b[39mmessage\u001b[39m\u001b[39m'\u001b[39m])\n\u001b[0;32m    473\u001b[0m \u001b[39m# initialize data to None in case API fails to respond to bad outputformat\u001b[39;00m\n\u001b[0;32m    474\u001b[0m data \u001b[39m=\u001b[39m \u001b[39mNone\u001b[39;00m, \u001b[39mNone\u001b[39;00m, \u001b[39mNone\u001b[39;00m, \u001b[39mNone\u001b[39;00m\n",
      "\u001b[1;31mHTTPError\u001b[0m: Location out of the spatial coverage of PVGIS5"
     ]
    }
   ],
   "source": [
    "import pandas as pd\n",
    "import geopandas as gpd\n",
    "import pvlib \n",
    "\n",
    "lat = apple_casablanca.centroid.x[0]\n",
    "lng = apple_casablanca.centroid.y[0]\n",
    "\n",
    "\n",
    "# get solar position\n",
    "solar_position = pvlib.solarposition.get_solarposition(apple_casablanca.index, lng, lat )\n",
    "\n",
    "# define weather data\n",
    "\n",
    "tmy_PVGIS = pvlib.iotools.get_pvgis_hourly(latitude, longitude, start=None, end=None, \n",
    "                                           raddatabase=None, components=True, surface_tilt=0, \n",
    "                                           surface_azimuth=0, outputformat='json', usehorizon=True, \n",
    "                                           userhorizon=None, pvcalculation=False, peakpower=None, \n",
    "                                           pvtechchoice='crystSi', mountingplace='free', loss=0, \n",
    "                                           trackingtype=0, optimal_surface_tilt=False, \n",
    "                                           optimalangles=False, url='https://re.jrc.ec.europa.eu/api/', \n",
    "                                           map_variables=True, timeout=30)\n",
    "\n",
    "\n",
    "# define PV system parameters\n",
    "system = pv.system.PVSystem(surface_tilt=30, surface_azimuth=0)\n",
    "\n",
    "# iterate over each row in geodataframe\n",
    "for index, row in apple_casablanca.iterrows():\n",
    "    # calculate irradiance\n",
    "    dni, ghi, DHI, extra = pv.irradiance.get_total_irradiance(surface_tilt=30, \n",
    "                                                              surface_azimuth=180, \n",
    "                                                              solar_zenith=solar_position['apparent_zenith'].loc[index], \n",
    "                                                              solar_azimuth=solar_position['azimuth'].loc[index], \n",
    "                                                              dni=weather_data['DNI'], \n",
    "                                                              ghi=weather_data['GHI'], \n",
    "                                                              dhi=weather_data['DHI'], \n",
    "                                                              solar_zenith_type='apparent')\n",
    "    # calculate PV system power output\n",
    "    power_output = system.sapm(dni=dni, ghi=ghi, temp_air=weather_data['Temp'], wind_speed=weather_data['Wind'])\n",
    "    \n",
    "    # store electricity yield in new column\n",
    "    apple_casablanca.loc[index, 'electricity_yield'] = power_output.sum()\n"
   ]
  },
  {
   "cell_type": "code",
   "execution_count": null,
   "metadata": {},
   "outputs": [
    {
     "name": "stderr",
     "output_type": "stream",
     "text": [
      "C:\\Users\\frederik.schonberger\\AppData\\Local\\Temp\\ipykernel_19128\\3218290375.py:5: UserWarning: Geometry is in a geographic CRS. Results from 'centroid' are likely incorrect. Use 'GeoSeries.to_crs()' to re-project geometries to a projected CRS before this operation.\n",
      "\n",
      "  lat = apple_casablanca.centroid.x[0]\n",
      "C:\\Users\\frederik.schonberger\\AppData\\Local\\Temp\\ipykernel_19128\\3218290375.py:6: UserWarning: Geometry is in a geographic CRS. Results from 'centroid' are likely incorrect. Use 'GeoSeries.to_crs()' to re-project geometries to a projected CRS before this operation.\n",
      "\n",
      "  lng = apple_casablanca.centroid.y[0]\n"
     ]
    },
    {
     "ename": "HTTPError",
     "evalue": "Location out of the spatial coverage of PVGIS5",
     "output_type": "error",
     "traceback": [
      "\u001b[1;31m---------------------------------------------------------------------------\u001b[0m\n",
      "\u001b[1;31mHTTPError\u001b[0m                                 Traceback (most recent call last)\n",
      "Cell \u001b[1;32mIn[38], line 13\u001b[0m\n",
      "\u001b[0;32m     10\u001b[0m solar_position \u001b[39m=\u001b[39m pv\u001b[39m.\u001b[39msolarposition\u001b[39m.\u001b[39mget_solarposition(apple_casablanca\u001b[39m.\u001b[39mindex, lng, lat )\n",
      "\u001b[0;32m     12\u001b[0m \u001b[39m# define weather data\u001b[39;00m\n",
      "\u001b[1;32m---> 13\u001b[0m weather_data \u001b[39m=\u001b[39m pv\u001b[39m.\u001b[39;49miotools\u001b[39m.\u001b[39;49mget_pvgis_tmy(lng, \n",
      "\u001b[0;32m     14\u001b[0m                                          lat)\n",
      "\u001b[0;32m     16\u001b[0m \u001b[39m# define PV system parameters\u001b[39;00m\n",
      "\u001b[0;32m     17\u001b[0m system \u001b[39m=\u001b[39m pv\u001b[39m.\u001b[39msystem\u001b[39m.\u001b[39mPVSystem(surface_tilt\u001b[39m=\u001b[39m\u001b[39m30\u001b[39m, surface_azimuth\u001b[39m=\u001b[39m\u001b[39m0\u001b[39m)\n",
      "\n",
      "File \u001b[1;32mc:\\Users\\frederik.schonberger\\AppData\\Local\\Programs\\Python\\Python311\\Lib\\site-packages\\pvlib\\iotools\\pvgis.py:472\u001b[0m, in \u001b[0;36mget_pvgis_tmy\u001b[1;34m(latitude, longitude, outputformat, usehorizon, userhorizon, startyear, endyear, url, map_variables, timeout)\u001b[0m\n",
      "\u001b[0;32m    470\u001b[0m         res\u001b[39m.\u001b[39mraise_for_status()\n",
      "\u001b[0;32m    471\u001b[0m     \u001b[39melse\u001b[39;00m:\n",
      "\u001b[1;32m--> 472\u001b[0m         \u001b[39mraise\u001b[39;00m requests\u001b[39m.\u001b[39mHTTPError(err_msg[\u001b[39m'\u001b[39m\u001b[39mmessage\u001b[39m\u001b[39m'\u001b[39m])\n",
      "\u001b[0;32m    473\u001b[0m \u001b[39m# initialize data to None in case API fails to respond to bad outputformat\u001b[39;00m\n",
      "\u001b[0;32m    474\u001b[0m data \u001b[39m=\u001b[39m \u001b[39mNone\u001b[39;00m, \u001b[39mNone\u001b[39;00m, \u001b[39mNone\u001b[39;00m, \u001b[39mNone\u001b[39;00m\n",
      "\n",
      "\u001b[1;31mHTTPError\u001b[0m: Location out of the spatial coverage of PVGIS5"
     ]
    }
   ],
   "source": [
    "import pandas as pd\n",
    "import geopandas as gpd\n",
    "import pvlib as pv\n",
    "\n",
    "lat = apple_casablanca.centroid.x[0]\n",
    "lng = apple_casablanca.centroid.y[0]\n",
    "\n",
    "\n",
    "# get solar position\n",
    "solar_position = pv.solarposition.get_solarposition(apple_casablanca.index, lng, lat )\n",
    "\n",
    "# define weather data\n",
    "weather_data = pv.iotools.get_pvgis_tmy(lng, \n",
    "                                         lat)\n",
    "\n",
    "# define PV system parameters\n",
    "system = pv.system.PVSystem(surface_tilt=30, surface_azimuth=0)\n",
    "\n",
    "# iterate over each row in geodataframe\n",
    "for index, row in apple_casablanca.iterrows():\n",
    "    # calculate irradiance\n",
    "    dni, ghi, DHI, extra = pv.irradiance.get_total_irradiance(surface_tilt=30, \n",
    "                                                              surface_azimuth=180, \n",
    "                                                              solar_zenith=solar_position['apparent_zenith'].loc[index], \n",
    "                                                              solar_azimuth=solar_position['azimuth'].loc[index], \n",
    "                                                              dni=weather_data['DNI'], \n",
    "                                                              ghi=weather_data['GHI'], \n",
    "                                                              dhi=weather_data['DHI'], \n",
    "                                                              solar_zenith_type='apparent')\n",
    "    # calculate PV system power output\n",
    "    power_output = system.sapm(dni=dni, ghi=ghi, temp_air=weather_data['Temp'], wind_speed=weather_data['Wind'])\n",
    "    \n",
    "    # store electricity yield in new column\n",
    "    apple_casablanca.loc[index, 'electricity_yield'] = power_output.sum()\n"
   ]
  },
  {
   "cell_type": "code",
   "execution_count": null,
   "metadata": {},
   "outputs": [
    {
     "name": "stderr",
     "output_type": "stream",
     "text": [
      "C:\\Users\\frederik.schonberger\\AppData\\Local\\Temp\\ipykernel_19128\\3218290375.py:5: UserWarning: Geometry is in a geographic CRS. Results from 'centroid' are likely incorrect. Use 'GeoSeries.to_crs()' to re-project geometries to a projected CRS before this operation.\n",
      "\n",
      "  lat = apple_casablanca.centroid.x[0]\n",
      "C:\\Users\\frederik.schonberger\\AppData\\Local\\Temp\\ipykernel_19128\\3218290375.py:6: UserWarning: Geometry is in a geographic CRS. Results from 'centroid' are likely incorrect. Use 'GeoSeries.to_crs()' to re-project geometries to a projected CRS before this operation.\n",
      "\n",
      "  lng = apple_casablanca.centroid.y[0]\n"
     ]
    },
    {
     "ename": "HTTPError",
     "evalue": "Location out of the spatial coverage of PVGIS5",
     "output_type": "error",
     "traceback": [
      "\u001b[1;31m---------------------------------------------------------------------------\u001b[0m\n",
      "\u001b[1;31mHTTPError\u001b[0m                                 Traceback (most recent call last)\n",
      "Cell \u001b[1;32mIn[38], line 13\u001b[0m\n",
      "\u001b[0;32m     10\u001b[0m solar_position \u001b[39m=\u001b[39m pv\u001b[39m.\u001b[39msolarposition\u001b[39m.\u001b[39mget_solarposition(apple_casablanca\u001b[39m.\u001b[39mindex, lng, lat )\n",
      "\u001b[0;32m     12\u001b[0m \u001b[39m# define weather data\u001b[39;00m\n",
      "\u001b[1;32m---> 13\u001b[0m weather_data \u001b[39m=\u001b[39m pv\u001b[39m.\u001b[39;49miotools\u001b[39m.\u001b[39;49mget_pvgis_tmy(lng, \n",
      "\u001b[0;32m     14\u001b[0m                                          lat)\n",
      "\u001b[0;32m     16\u001b[0m \u001b[39m# define PV system parameters\u001b[39;00m\n",
      "\u001b[0;32m     17\u001b[0m system \u001b[39m=\u001b[39m pv\u001b[39m.\u001b[39msystem\u001b[39m.\u001b[39mPVSystem(surface_tilt\u001b[39m=\u001b[39m\u001b[39m30\u001b[39m, surface_azimuth\u001b[39m=\u001b[39m\u001b[39m0\u001b[39m)\n",
      "\n",
      "File \u001b[1;32mc:\\Users\\frederik.schonberger\\AppData\\Local\\Programs\\Python\\Python311\\Lib\\site-packages\\pvlib\\iotools\\pvgis.py:472\u001b[0m, in \u001b[0;36mget_pvgis_tmy\u001b[1;34m(latitude, longitude, outputformat, usehorizon, userhorizon, startyear, endyear, url, map_variables, timeout)\u001b[0m\n",
      "\u001b[0;32m    470\u001b[0m         res\u001b[39m.\u001b[39mraise_for_status()\n",
      "\u001b[0;32m    471\u001b[0m     \u001b[39melse\u001b[39;00m:\n",
      "\u001b[1;32m--> 472\u001b[0m         \u001b[39mraise\u001b[39;00m requests\u001b[39m.\u001b[39mHTTPError(err_msg[\u001b[39m'\u001b[39m\u001b[39mmessage\u001b[39m\u001b[39m'\u001b[39m])\n",
      "\u001b[0;32m    473\u001b[0m \u001b[39m# initialize data to None in case API fails to respond to bad outputformat\u001b[39;00m\n",
      "\u001b[0;32m    474\u001b[0m data \u001b[39m=\u001b[39m \u001b[39mNone\u001b[39;00m, \u001b[39mNone\u001b[39;00m, \u001b[39mNone\u001b[39;00m, \u001b[39mNone\u001b[39;00m\n",
      "\n",
      "\u001b[1;31mHTTPError\u001b[0m: Location out of the spatial coverage of PVGIS5"
     ]
    }
   ],
   "source": [
    "import pandas as pd\n",
    "import geopandas as gpd\n",
    "import pvlib as pv\n",
    "\n",
    "lat = apple_casablanca.centroid.x[0]\n",
    "lng = apple_casablanca.centroid.y[0]\n",
    "\n",
    "\n",
    "# get solar position\n",
    "solar_position = pv.solarposition.get_solarposition(apple_casablanca.index, lng, lat )\n",
    "\n",
    "# define weather data\n",
    "weather_data = pv.iotools.get_pvgis_tmy(lng, \n",
    "                                         lat)\n",
    "\n",
    "# define PV system parameters\n",
    "system = pv.system.PVSystem(surface_tilt=30, surface_azimuth=0)\n",
    "\n",
    "# iterate over each row in geodataframe\n",
    "for index, row in apple_casablanca.iterrows():\n",
    "    # calculate irradiance\n",
    "    dni, ghi, DHI, extra = pv.irradiance.get_total_irradiance(surface_tilt=30, \n",
    "                                                              surface_azimuth=180, \n",
    "                                                              solar_zenith=solar_position['apparent_zenith'].loc[index], \n",
    "                                                              solar_azimuth=solar_position['azimuth'].loc[index], \n",
    "                                                              dni=weather_data['DNI'], \n",
    "                                                              ghi=weather_data['GHI'], \n",
    "                                                              dhi=weather_data['DHI'], \n",
    "                                                              solar_zenith_type='apparent')\n",
    "    # calculate PV system power output\n",
    "    power_output = system.sapm(dni=dni, ghi=ghi, temp_air=weather_data['Temp'], wind_speed=weather_data['Wind'])\n",
    "    \n",
    "    # store electricity yield in new column\n",
    "    apple_casablanca.loc[index, 'electricity_yield'] = power_output.sum()\n"
   ]
  },
  {
   "cell_type": "code",
   "execution_count": null,
   "metadata": {},
   "outputs": [
    {
     "name": "stderr",
     "output_type": "stream",
     "text": [
      "C:\\Users\\frederik.schonberger\\AppData\\Local\\Temp\\ipykernel_19128\\3218290375.py:5: UserWarning: Geometry is in a geographic CRS. Results from 'centroid' are likely incorrect. Use 'GeoSeries.to_crs()' to re-project geometries to a projected CRS before this operation.\n",
      "\n",
      "  lat = apple_casablanca.centroid.x[0]\n",
      "C:\\Users\\frederik.schonberger\\AppData\\Local\\Temp\\ipykernel_19128\\3218290375.py:6: UserWarning: Geometry is in a geographic CRS. Results from 'centroid' are likely incorrect. Use 'GeoSeries.to_crs()' to re-project geometries to a projected CRS before this operation.\n",
      "\n",
      "  lng = apple_casablanca.centroid.y[0]\n"
     ]
    },
    {
     "ename": "HTTPError",
     "evalue": "Location out of the spatial coverage of PVGIS5",
     "output_type": "error",
     "traceback": [
      "\u001b[1;31m---------------------------------------------------------------------------\u001b[0m\n",
      "\u001b[1;31mHTTPError\u001b[0m                                 Traceback (most recent call last)\n",
      "Cell \u001b[1;32mIn[38], line 13\u001b[0m\n",
      "\u001b[0;32m     10\u001b[0m solar_position \u001b[39m=\u001b[39m pv\u001b[39m.\u001b[39msolarposition\u001b[39m.\u001b[39mget_solarposition(apple_casablanca\u001b[39m.\u001b[39mindex, lng, lat )\n",
      "\u001b[0;32m     12\u001b[0m \u001b[39m# define weather data\u001b[39;00m\n",
      "\u001b[1;32m---> 13\u001b[0m weather_data \u001b[39m=\u001b[39m pv\u001b[39m.\u001b[39;49miotools\u001b[39m.\u001b[39;49mget_pvgis_tmy(lng, \n",
      "\u001b[0;32m     14\u001b[0m                                          lat)\n",
      "\u001b[0;32m     16\u001b[0m \u001b[39m# define PV system parameters\u001b[39;00m\n",
      "\u001b[0;32m     17\u001b[0m system \u001b[39m=\u001b[39m pv\u001b[39m.\u001b[39msystem\u001b[39m.\u001b[39mPVSystem(surface_tilt\u001b[39m=\u001b[39m\u001b[39m30\u001b[39m, surface_azimuth\u001b[39m=\u001b[39m\u001b[39m0\u001b[39m)\n",
      "\n",
      "File \u001b[1;32mc:\\Users\\frederik.schonberger\\AppData\\Local\\Programs\\Python\\Python311\\Lib\\site-packages\\pvlib\\iotools\\pvgis.py:472\u001b[0m, in \u001b[0;36mget_pvgis_tmy\u001b[1;34m(latitude, longitude, outputformat, usehorizon, userhorizon, startyear, endyear, url, map_variables, timeout)\u001b[0m\n",
      "\u001b[0;32m    470\u001b[0m         res\u001b[39m.\u001b[39mraise_for_status()\n",
      "\u001b[0;32m    471\u001b[0m     \u001b[39melse\u001b[39;00m:\n",
      "\u001b[1;32m--> 472\u001b[0m         \u001b[39mraise\u001b[39;00m requests\u001b[39m.\u001b[39mHTTPError(err_msg[\u001b[39m'\u001b[39m\u001b[39mmessage\u001b[39m\u001b[39m'\u001b[39m])\n",
      "\u001b[0;32m    473\u001b[0m \u001b[39m# initialize data to None in case API fails to respond to bad outputformat\u001b[39;00m\n",
      "\u001b[0;32m    474\u001b[0m data \u001b[39m=\u001b[39m \u001b[39mNone\u001b[39;00m, \u001b[39mNone\u001b[39;00m, \u001b[39mNone\u001b[39;00m, \u001b[39mNone\u001b[39;00m\n",
      "\n",
      "\u001b[1;31mHTTPError\u001b[0m: Location out of the spatial coverage of PVGIS5"
     ]
    }
   ],
   "source": [
    "import pandas as pd\n",
    "import geopandas as gpd\n",
    "import pvlib as pv\n",
    "\n",
    "lat = apple_casablanca.centroid.x[0]\n",
    "lng = apple_casablanca.centroid.y[0]\n",
    "\n",
    "\n",
    "# get solar position\n",
    "solar_position = pv.solarposition.get_solarposition(apple_casablanca.index, lng, lat )\n",
    "\n",
    "# define weather data\n",
    "weather_data = pv.iotools.get_pvgis_tmy(lng, \n",
    "                                         lat)\n",
    "\n",
    "# define PV system parameters\n",
    "system = pv.system.PVSystem(surface_tilt=30, surface_azimuth=0)\n",
    "\n",
    "# iterate over each row in geodataframe\n",
    "for index, row in apple_casablanca.iterrows():\n",
    "    # calculate irradiance\n",
    "    dni, ghi, DHI, extra = pv.irradiance.get_total_irradiance(surface_tilt=30, \n",
    "                                                              surface_azimuth=180, \n",
    "                                                              solar_zenith=solar_position['apparent_zenith'].loc[index], \n",
    "                                                              solar_azimuth=solar_position['azimuth'].loc[index], \n",
    "                                                              dni=weather_data['DNI'], \n",
    "                                                              ghi=weather_data['GHI'], \n",
    "                                                              dhi=weather_data['DHI'], \n",
    "                                                              solar_zenith_type='apparent')\n",
    "    # calculate PV system power output\n",
    "    power_output = system.sapm(dni=dni, ghi=ghi, temp_air=weather_data['Temp'], wind_speed=weather_data['Wind'])\n",
    "    \n",
    "    # store electricity yield in new column\n",
    "    apple_casablanca.loc[index, 'electricity_yield'] = power_output.sum()\n"
   ]
  },
  {
   "cell_type": "code",
   "execution_count": null,
   "metadata": {},
   "outputs": [],
   "source": [
    "import pandas as pd\n",
    "import geopandas as gpd\n",
    "import pvlib as pv\n",
    "\n",
    "\n",
    "# get solar position\n",
    "solar_position = pv.solarposition.get_solarposition(apple_casablanca.index, apple_casablanca.geometry.x, apple_casablanca.centroid.y)\n",
    "\n",
    "# define weather data\n",
    "weather_data = pv.iotools.get_pvgis_tmy(latitude=apple_casablanca.centroid.y.mean(), \n",
    "                                         longitude=apple_casablanca.centroid.x.mean())\n",
    "\n",
    "# define PV system parameters\n",
    "system = pv.system.PVSystem(surface_tilt=30, surface_azimuth=0)\n",
    "\n",
    "# iterate over each row in geodataframe\n",
    "for index, row in apple_casablanca.iterrows():\n",
    "    # calculate irradiance\n",
    "    dni, ghi, DHI, extra = pv.irradiance.get_total_irradiance(surface_tilt=30, \n",
    "                                                              surface_azimuth=180, \n",
    "                                                              solar_zenith=solar_position['apparent_zenith'].loc[index], \n",
    "                                                              solar_azimuth=solar_position['azimuth'].loc[index], \n",
    "                                                              dni=weather_data['DNI'], \n",
    "                                                              ghi=weather_data['GHI'], \n",
    "                                                              dhi=weather_data['DHI'], \n",
    "                                                              solar_zenith_type='apparent')\n",
    "    # calculate PV system power output\n",
    "    power_output = system.sapm(dni=dni, ghi=ghi, temp_air=weather_data['Temp'], wind_speed=weather_data['Wind'])\n",
    "    \n",
    "    # store electricity yield in new column\n",
    "    apple_casablanca.loc[index, 'electricity_yield'] = power_output.sum()\n"
   ]
  }
 ],
 "metadata": {
  "kernelspec": {
   "display_name": "Python 3",
   "language": "python",
   "name": "python3"
  },
  "language_info": {
   "codemirror_mode": {
    "name": "ipython",
    "version": 3
   },
   "file_extension": ".py",
   "mimetype": "text/x-python",
   "name": "python",
   "nbconvert_exporter": "python",
   "pygments_lexer": "ipython3",
   "version": "3.11.0"
  },
  "orig_nbformat": 4
 },
 "nbformat": 4,
 "nbformat_minor": 2
}
